{
 "cells": [
  {
   "cell_type": "markdown",
   "metadata": {},
   "source": [
    "# FLEKS Python Visualization Toolkit: AMReX Data\n",
    "\n",
    "flekspy is a Python package for processing FLEKS data. This notebook focuses on handling data in the AMReX format.\n",
    "\n",
    "## FLEKS data format\n",
    "\n",
    "* Field: *.out format or AMREX built-in format, whose directory name is assumed to end with \"_amrex\"\n",
    "* PIC particle: AMREX built-in format \n",
    "* Test particle: binary data format"
   ]
  },
  {
   "cell_type": "markdown",
   "metadata": {},
   "source": [
    "## Importing the package"
   ]
  },
  {
   "cell_type": "code",
   "execution_count": null,
   "metadata": {},
   "outputs": [],
   "source": [
    "import flekspy"
   ]
  },
  {
   "cell_type": "markdown",
   "metadata": {},
   "source": [
    "## Downloading demo data\n",
    "\n",
    "Example PIC particle data can be downloaded as follows:"
   ]
  },
  {
   "cell_type": "code",
   "execution_count": null,
   "metadata": {},
   "outputs": [],
   "source": [
    "from flekspy.util import download_testfile\n",
    "\n",
    "url = \"https://raw.githubusercontent.com/henry2004y/batsrus_data/master/3d_particle.tar.gz\"\n",
    "download_testfile(url, \"data\")"
   ]
  },
  {
   "cell_type": "markdown",
   "metadata": {},
   "source": [
    "Native AMReX format can be read using YT:"
   ]
  },
  {
   "cell_type": "code",
   "execution_count": null,
   "metadata": {},
   "outputs": [],
   "source": [
    "ds = flekspy.load(\"data/3d*amrex\")"
   ]
  },
  {
   "cell_type": "markdown",
   "metadata": {},
   "source": [
    "We can take a slice at a given location, which works both for IDL and AMReX data:"
   ]
  },
  {
   "cell_type": "code",
   "execution_count": null,
   "metadata": {},
   "outputs": [],
   "source": [
    "dc = ds.get_slice(\"z\", 0.5)\n",
    "dc"
   ]
  },
  {
   "cell_type": "markdown",
   "metadata": {},
   "source": [
    "and plot the selected variables on the slice with colored contours, streamlines, and contour lines:"
   ]
  },
  {
   "cell_type": "code",
   "execution_count": null,
   "metadata": {},
   "outputs": [],
   "source": [
    "f, axes = dc.plot(\"By\", pcolor=True)\n",
    "dc.add_stream(axes[0], \"Bx\", \"By\", color=\"w\")\n",
    "dc.add_contour(axes[0], \"Bx\")"
   ]
  },
  {
   "cell_type": "markdown",
   "metadata": {},
   "source": [
    "Users can also obtain the data of a 2D plane, and visualize it with matplotlib. A complete example is given below:"
   ]
  },
  {
   "cell_type": "code",
   "execution_count": null,
   "metadata": {},
   "outputs": [],
   "source": [
    "import matplotlib.pyplot as plt\n",
    "import numpy as np\n",
    "\n",
    "ds = flekspy.load(\"data/3*amrex\")\n",
    "dc = ds.get_slice(\"z\", 0.5)\n",
    "\n",
    "f, axes = plt.subplots(\n",
    "    1, 2, figsize=(12, 4), constrained_layout=True, sharex=True, sharey=True\n",
    ")\n",
    "\n",
    "fields = [\"By\", \"Bz\"]\n",
    "for ivar in range(2):\n",
    "    v = dc.evaluate_expression(fields[ivar])\n",
    "    vmin = v.min().v\n",
    "    vmax = v.max().v\n",
    "    ax = axes[ivar]\n",
    "    ax.set_title(fields[ivar], fontsize=16)\n",
    "    ax.set_ylabel(\"Y\", fontsize=16)\n",
    "    ax.set_xlabel(\"X\", fontsize=16)\n",
    "    c = ax.pcolormesh(dc.x.value, dc.y.value, np.array(v.T), cmap=\"turbo\")\n",
    "    cb = f.colorbar(c, ax=ax, pad=0.01)\n",
    "\n",
    "    ax.set_xlim(np.min(dc.x.value), np.max(dc.x.value))\n",
    "    ax.set_xlim(np.min(dc.y.value), np.max(dc.y.value))\n",
    "    dc.add_stream(ax, \"Bx\", \"By\", density=0.5, color=\"w\")\n",
    "\n",
    "plt.show()"
   ]
  },
  {
   "cell_type": "markdown",
   "metadata": {},
   "source": [
    "### Experimental AMReX Particle Loader\n",
    "\n",
    "After flekspy v0.5.23, we introduced an experimental native AMReX particle loader."
   ]
  },
  {
   "cell_type": "code",
   "execution_count": null,
   "metadata": {},
   "outputs": [],
   "source": [
    "from flekspy.amrex import AMReXParticleData\n",
    "\n",
    "data_file = \"data/3d_particle_region0_1_t00000002_n00000007_amrex\"\n",
    "pd = AMReXParticleData(data_file)\n",
    "pd"
   ]
  },
  {
   "cell_type": "markdown",
   "metadata": {},
   "source": [
    "Particles within a given region can be extracted as follows:"
   ]
  },
  {
   "cell_type": "code",
   "execution_count": null,
   "metadata": {},
   "outputs": [],
   "source": [
    "x_range = (-0.008, 0.008)\n",
    "y_range = (-0.005, 0.005)\n",
    "\n",
    "rdata = pd.select_particles_in_region(x_range=x_range, y_range=y_range)"
   ]
  },
  {
   "cell_type": "markdown",
   "metadata": {},
   "source": [
    "Phase space plotting is achieved via `plot_phase`:"
   ]
  },
  {
   "cell_type": "code",
   "execution_count": null,
   "metadata": {},
   "outputs": [],
   "source": [
    "fig, ax = pd.plot_phase(\"velocity_y\", \"velocity_z\", bins=(100,32))\n",
    "plt.show()"
   ]
  },
  {
   "cell_type": "markdown",
   "metadata": {},
   "source": [
    "## Visualizing phase space distributions with yt"
   ]
  },
  {
   "cell_type": "code",
   "execution_count": null,
   "metadata": {
    "scrolled": true
   },
   "outputs": [],
   "source": [
    "from flekspy.util import unit_one\n",
    "\n",
    "data_file = \"data/3d_*amrex\"\n",
    "ds = flekspy.load(data_file)\n",
    "\n",
    "# Add a user defined field. See yt document for more information about derived field.\n",
    "ds.add_field(\n",
    "    ds.pvar(\"unit_one\"),\n",
    "    function=unit_one,\n",
    "    sampling_type=\"particle\",\n",
    "    units=\"dimensionless\",\n",
    ")\n",
    "\n",
    "x_field = \"p_uy\"\n",
    "y_field = \"p_uz\"\n",
    "# z_field = \"unit_one\"\n",
    "z_field = \"p_w\"\n",
    "xleft = [-0.016, -0.01, 0.0]\n",
    "xright = [0.016, 0.01, 1.0]\n",
    "\n",
    "zmin, zmax = 1e-5, 2e-3\n",
    "\n",
    "## Select and plot the particles inside a box defined by xleft and xright\n",
    "region = ds.box(xleft, xright)\n",
    "pp = ds.plot_phase(\n",
    "    x_field,\n",
    "    y_field,\n",
    "    z_field,\n",
    "    region=region,\n",
    "    unit_type=\"si\",\n",
    "    x_bins=100,\n",
    "    y_bins=32,\n",
    "    domain_size=(xleft[0], xright[0], xleft[1], xright[1]),\n",
    ")\n",
    "\n",
    "pp.set_cmap(pp.fields[0], \"turbo\")\n",
    "pp.set_font(\n",
    "    {\n",
    "        \"size\": 34,\n",
    "        \"family\": \"DejaVu Sans\",\n",
    "    }\n",
    ")\n",
    "\n",
    "pp.set_zlim(pp.fields[0], zmin=zmin, zmax=zmax)\n",
    "\n",
    "pp.set_xlabel(r\"$V_y$\")\n",
    "pp.set_ylabel(r\"$V_z$\")\n",
    "pp.set_colorbar_label(pp.fields[0], \"weight\")\n",
    "str_title = (\n",
    "    rf\"x = [{xleft[0]:.1e}, {xright[0]:.1e}], y = [{xleft[1]:.1e}, {xright[1]:.1e}]\"\n",
    ")\n",
    "pp.set_title(pp.fields[0], str_title)\n",
    "pp.set_log(pp.fields[0], True)\n",
    "pp.show()\n",
    "# pp.save(\"test\")\n",
    "# pp.plots[(\"particles\", z_field)].axes.xaxis.set_major_locator(\n",
    "# ticker.MaxNLocator(4))\n",
    "# pp.plots[(\"particles\", z_field)].axes.yaxis.set_major_locator(\n",
    "# ticker.MaxNLocator(4))"
   ]
  },
  {
   "cell_type": "markdown",
   "metadata": {},
   "source": [
    "### Plot the location of particles that are inside a sphere"
   ]
  },
  {
   "cell_type": "code",
   "execution_count": null,
   "metadata": {},
   "outputs": [],
   "source": [
    "center = [0, 0, 0]\n",
    "radius = 1\n",
    "# Object sphere is defined in yt/data_objects/selection_objects/spheroids.py\n",
    "sp = ds.sphere(center, radius)\n",
    "pp = ds.plot_particles(\n",
    "    \"p_x\", \"p_y\", \"p_w\", region=sp, unit_type=\"si\", x_bins=64, y_bins=64\n",
    ")\n",
    "pp.show()\n",
    "# pp.save(\"test\")"
   ]
  },
  {
   "cell_type": "markdown",
   "metadata": {},
   "source": [
    "### Plot the velocity space of particles that are inside a sphere"
   ]
  },
  {
   "cell_type": "code",
   "execution_count": null,
   "metadata": {},
   "outputs": [],
   "source": [
    "pp = ds.plot_phase(\n",
    "    \"p_uy\", \"p_uz\", \"p_w\", region=sp, unit_type=\"si\", x_bins=64, y_bins=64\n",
    ")\n",
    "\n",
    "pp.set_cmap(pp.fields[0], \"turbo\")\n",
    "\n",
    "pp.set_font(\n",
    "\n",
    "    {\n",
    "\n",
    "        \"size\": 34,\n",
    "\n",
    "        \"family\": \"DejaVu Sans\",\n",
    "\n",
    "    }\n",
    ")\n",
    "\n",
    "pp.show()"
   ]
  },
  {
   "cell_type": "markdown",
   "metadata": {},
   "source": [
    "### Plot the location of particles that are inside a disk"
   ]
  },
  {
   "cell_type": "code",
   "execution_count": null,
   "metadata": {},
   "outputs": [],
   "source": [
    "center = [0, 0, 0]\n",
    "normal = [0, 0, 1]  # normal direction of the disk\n",
    "radius = 0.5\n",
    "height = 1.0\n",
    "# Object sphere is defined in yt/data_objects/selection_objects/disk.py\n",
    "disk = ds.disk(center, normal, radius, height)\n",
    "pp = ds.plot_particles(\n",
    "    \"p_x\", \"p_y\", \"p_w\", region=disk, unit_type=\"si\", x_bins=64, y_bins=64\n",
    ")\n",
    "pp.show()"
   ]
  },
  {
   "cell_type": "markdown",
   "metadata": {},
   "source": [
    "### Plot the velocity space of particles that are inside a disk"
   ]
  },
  {
   "cell_type": "code",
   "execution_count": null,
   "metadata": {},
   "outputs": [],
   "source": [
    "pp = ds.plot_phase(\n",
    "    \"p_uy\", \"p_uz\", \"p_w\", region=disk, unit_type=\"si\", x_bins=64, y_bins=64\n",
    ")\n",
    "\n",
    "pp.show()"
   ]
  },
  {
   "cell_type": "markdown",
   "metadata": {},
   "source": [
    "Get the 2D array from the phase plot and reconstruct from scratch:"
   ]
  },
  {
   "cell_type": "code",
   "execution_count": null,
   "metadata": {},
   "outputs": [],
   "source": [
    "for var_name in pp.profile.field_data:\n",
    "    val = pp.profile.field_data[var_name]\n",
    "\n",
    "x = pp.profile.x\n",
    "y = pp.profile.y\n",
    "\n",
    "plt.pcolormesh(x, y, val)\n",
    "plt.show()"
   ]
  },
  {
   "cell_type": "markdown",
   "metadata": {},
   "source": [
    "# Analyzing AMReX Outputs From FLEKS (from demo_amrex_output.ipynb)\n",
    "\n",
    "In this demo, we show how to analyze native AMReX field and particle outputs. Example data can be downloaded as follows:"
   ]
  },
  {
   "cell_type": "code",
   "execution_count": null,
   "metadata": {},
   "outputs": [],
   "source": [
    "import flekspy\n",
    "from flekspy.util import download_testfile\n",
    "\n",
    "url = \"https://raw.githubusercontent.com/henry2004y/batsrus_data/master/fleks_particle_small.tar.gz\"\n",
    "download_testfile(url, \"data\")"
   ]
  },
  {
   "cell_type": "markdown",
   "metadata": {},
   "source": [
    "Inheriting from the IDL procedures, we can pass strings to limit the plotting range (experimental, may be changed in the future):"
   ]
  },
  {
   "cell_type": "code",
   "execution_count": null,
   "metadata": {},
   "outputs": [],
   "source": [
    "ds = flekspy.load(\"data/fleks_particle_small/3d*amrex\")\n",
    "dc = ds.get_slice(\"z\", 0.001)\n",
    "\n",
    "f, axes = dc.plot(\"Bx>(2.2e5)<(3e5) Ex\", figsize=(12, 6))\n",
    "dc.add_stream(axes[0], \"Bx\", \"By\", color=\"w\")\n",
    "dc.add_contour(axes[1], \"Bx\", color=\"k\")"
   ]
  },
  {
   "cell_type": "markdown",
   "metadata": {},
   "source": [
    "## Velocity Space Distributions"
   ]
  },
  {
   "cell_type": "code",
   "execution_count": null,
   "metadata": {},
   "outputs": [],
   "source": [
    "from flekspy.util import unit_one\n",
    "\n",
    "filename = \"data/fleks_particle_small/cut_*amrex\"\n",
    "ds = flekspy.load(filename)\n",
    "\n",
    "# Add a user defined field. See yt document for more information about derived field.\n",
    "ds.add_field(\n",
    "    ds.pvar(\"unit_one\"), function=unit_one, sampling_type=\"particle\", units=\"code_mass\"\n",
    ")\n",
    "\n",
    "x_field = \"p_uy\"\n",
    "y_field = \"p_uz\"\n",
    "z_field = \"unit_one\"\n",
    "# z_field = \"p_w\"\n",
    "xleft = [-0.001, -0.001, -0.001]\n",
    "xright = [0.001, 0.001, 0.001]\n",
    "\n",
    "### Select and plot the particles inside a box defined by xleft and xright\n",
    "region = ds.box(xleft, xright)\n",
    "pp = ds.plot_phase(\n",
    "    x_field,\n",
    "    y_field,\n",
    "    z_field,\n",
    "    region=region,\n",
    "    unit_type=\"si\",\n",
    "    x_bins=64,\n",
    "    y_bins=64,\n",
    "    domain_size=(-0.0002, 0.0002, -0.0002, 0.0002),\n",
    ")\n",
    "\n",
    "pp.set_cmap(pp.fields[0], \"turbo\")\n",
    "\n",
    "# plot.set_zlim(plot.fields[0], zmin, zmax)\n",
    "pp.set_xlabel(r\"$V_y$\")\n",
    "pp.set_ylabel(r\"$V_z$\")\n",
    "# pp.set_colorbar_label(pp.fields[0], \"pw\")\n",
    "pp.set_title(pp.fields[0], \"Number density\")\n",
    "pp.set_font(\n",
    "    {\n",
    "        \"size\": 34,\n",
    "        \"family\": \"DejaVu Sans\",\n",
    "    }\n",
    ")\n",
    "pp.set_log(pp.fields[0], False)\n",
    "pp.show()"
   ]
  },
  {
   "cell_type": "markdown",
   "metadata": {},
   "source": [
    "If you need the direct phase space distributions together with the axis,"
   ]
  },
  {
   "cell_type": "code",
   "execution_count": null,
   "metadata": {},
   "outputs": [],
   "source": [
    "x, y, w = ds.get_phase(\n",
    "    x_field,\n",
    "    y_field,\n",
    "    z_field,\n",
    "    region=region,\n",
    "    x_bins=64,\n",
    "    y_bins=64,\n",
    "    domain_size=(-0.0002, 0.0002, -0.0002, 0.0002),\n",
    ")"
   ]
  },
  {
   "cell_type": "markdown",
   "metadata": {},
   "source": [
    "To check the newly added field,"
   ]
  },
  {
   "cell_type": "code",
   "execution_count": null,
   "metadata": {},
   "outputs": [],
   "source": [
    "ad = ds.all_data()\n",
    "ad[(\"particles\", \"unit_one\")]"
   ]
  },
  {
   "cell_type": "markdown",
   "metadata": {},
   "source": [
    "Plot the location of particles that are inside a sphere"
   ]
  },
  {
   "cell_type": "code",
   "execution_count": null,
   "metadata": {},
   "outputs": [],
   "source": [
    "center = [0, 0, 0]\n",
    "radius = 0.001\n",
    "z_field = \"unit_one\"\n",
    "# Object sphere is defined in yt/data_objects/selection_objects/spheroids.py\n",
    "sp = ds.sphere(center, radius)\n",
    "pp = ds.plot_particles(\n",
    "    \"p_x\", \"p_y\", z_field, region=sp, unit_type=\"planet\", x_bins=64, y_bins=64\n",
    ")\n",
    "pp.show()"
   ]
  },
  {
   "cell_type": "markdown",
   "metadata": {},
   "source": [
    "Plot the phase space of particles that are inside a sphere"
   ]
  },
  {
   "cell_type": "code",
   "execution_count": null,
   "metadata": {},
   "outputs": [],
   "source": [
    "pp = ds.plot_phase(\n",
    "    \"p_uy\", \"p_uz\", z_field, region=sp, unit_type=\"planet\", x_bins=64, y_bins=64\n",
    ")\n",
    "pp.show()"
   ]
  },
  {
   "cell_type": "markdown",
   "metadata": {},
   "source": [
    "Plot the location of particles that are inside a disk"
   ]
  },
  {
   "cell_type": "code",
   "execution_count": null,
   "metadata": {},
   "outputs": [],
   "source": [
    "center = [0, 0, 0]\n",
    "normal = [1, 1, 0]\n",
    "radius = 0.0005\n",
    "height = 0.0004\n",
    "z_field = \"unit_one\"\n",
    "# Object sphere is defined in yt/data_objects/selection_objects/disk.py\n",
    "disk = ds.disk(center, normal, radius, height)\n",
    "pp = ds.plot_particles(\n",
    "    \"p_x\", \"p_y\", z_field, region=disk, unit_type=\"planet\", x_bins=64, y_bins=64\n",
    ")\n",
    "pp.show()"
   ]
  },
  {
   "cell_type": "markdown",
   "metadata": {},
   "source": [
    "Plot the phase space of particles that are inside a disk"
   ]
  },
  {
   "cell_type": "code",
   "execution_count": null,
   "metadata": {},
   "outputs": [],
   "source": [
    "pp = ds.plot_phase(\n",
    "    \"p_uy\", \"p_uz\", z_field, region=disk, unit_type=\"planet\", x_bins=64, y_bins=64\n",
    ")\n",
    "pp.show()"
   ]
  },
  {
   "cell_type": "markdown",
   "metadata": {},
   "source": [
    "## Transform the velocity coordinates and visualize the phase space distribution\n",
    "\n",
    "WIP"
   ]
  },
  {
   "cell_type": "code",
   "execution_count": null,
   "metadata": {},
   "outputs": [],
   "source": [
    "import flekspy, yt\n",
    "\n",
    "l = [1, 0, 0]\n",
    "m = [0, 1, 0]\n",
    "n = [0, 0, 1]\n",
    "\n",
    "\n",
    "def _vel_l(field, data):\n",
    "    res = (\n",
    "        l[0] * data[(\"particles\", \"p_ux\")]\n",
    "        + l[1] * data[(\"particles\", \"p_uy\")]\n",
    "        + l[2] * data[(\"particles\", \"p_uz\")]\n",
    "    )\n",
    "    return res\n",
    "\n",
    "\n",
    "def _vel_m(field, data):\n",
    "    res = (\n",
    "        m[0] * data[(\"particles\", \"p_ux\")]\n",
    "        + m[1] * data[(\"particles\", \"p_uy\")]\n",
    "        + m[2] * data[(\"particles\", \"p_uz\")]\n",
    "    )\n",
    "    return res\n",
    "\n",
    "\n",
    "def _vel_n(field, data):\n",
    "    res = (\n",
    "        n[0] * data[(\"particles\", \"p_ux\")]\n",
    "        + n[1] * data[(\"particles\", \"p_uy\")]\n",
    "        + n[2] * data[(\"particles\", \"p_uz\")]\n",
    "    )\n",
    "    return res\n",
    "\n",
    "\n",
    "filename = \"data/fleks_particle_small/cut_*amrex\"\n",
    "ds = flekspy.load(filename)\n",
    "\n",
    "# Add a user defined field. See yt document for more information about derived field.\n",
    "vl_name = ds.pvar(\"vel_l\")\n",
    "vm_name = ds.pvar(\"vel_m\")\n",
    "vn_name = ds.pvar(\"vel_n\")\n",
    "ds.add_field(vl_name, units=\"code_velocity\", function=_vel_l, sampling_type=\"particle\")\n",
    "ds.add_field(vm_name, units=\"code_velocity\", function=_vel_m, sampling_type=\"particle\")\n",
    "ds.add_field(vn_name, units=\"code_velocity\", function=_vel_n, sampling_type=\"particle\")\n",
    "\n",
    "######## Plot the location of particles that are inside a sphere ###########\n",
    "center = [0, 0, 0]\n",
    "radius = 0.001\n",
    "# Object sphere is defined in yt/data_objects/selection_objects/spheroids.py\n",
    "sp = ds.sphere(center, radius)\n",
    "\n",
    "x_field = vl_name\n",
    "y_field = vm_name\n",
    "z_field = ds.pvar(\"p_w\")\n",
    "\n",
    "logs = {x_field: False, y_field: False}\n",
    "profile = yt.create_profile(\n",
    "    data_source=sp,\n",
    "    bin_fields=[x_field, y_field],\n",
    "    fields=z_field,\n",
    "    n_bins=[64, 64],\n",
    "    weight_field=None,\n",
    "    logs=logs,\n",
    ")\n",
    "\n",
    "pp = yt.PhasePlot.from_profile(profile)\n",
    "\n",
    "pp.set_unit(x_field, \"km/s\")\n",
    "pp.set_unit(y_field, \"km/s\")\n",
    "pp.set_unit(z_field, \"amu\")\n",
    "\n",
    "pp.set_cmap(pp.fields[0], \"turbo\")\n",
    "# pp.set_zlim(pp.fields[0], zmin, zmax)\n",
    "pp.set_xlabel(r\"$V_l$\")\n",
    "pp.set_ylabel(r\"$V_m$\")\n",
    "pp.set_colorbar_label(pp.fields[0], \"colorbar_label\")\n",
    "pp.set_title(pp.fields[0], \"Density\")\n",
    "pp.set_font(\n",
    "    {\n",
    "        \"size\": 34,\n",
    "        \"family\": \"DejaVu Sans\",\n",
    "    }\n",
    ")\n",
    "pp.set_log(pp.fields[0], False)\n",
    "pp.show()"
   ]
  }
 ],
 "metadata": {
  "kernelspec": {
   "display_name": "Python 3.9.7 64-bit",
   "language": "python",
   "name": "python3"
  },
  "language_info": {
   "codemirror_mode": {
    "name": "ipython",
    "version": 3
   },
   "file_extension": ".py",
   "mimetype": "text/x-python",
   "name": "python",
   "nbconvert_exporter": "python",
   "pygments_lexer": "ipython3",
   "version": "3.9.6"
  },
  "vscode": {
   "interpreter": {
    "hash": "f22a20af907fde35ff19e1e892fdb271353fb19b11c7ebd774491472e685293c"
   }
  }
 },
 "nbformat": 4,
 "nbformat_minor": 4
}