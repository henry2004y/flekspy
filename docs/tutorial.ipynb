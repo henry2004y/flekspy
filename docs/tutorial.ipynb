{
 "cells": [
  {
   "cell_type": "markdown",
   "metadata": {},
   "source": [
    "# FLEKS Python Visualization Toolkit\n",
    "\n",
    "flekspy is a Python package for processing FLEKS data.\n",
    "\n",
    "## FLEKS data format\n",
    "\n",
    "* Field: *.out format or AMREX built-in format, whose directory name is assumed to end with \"_amrex\"\n",
    "* PIC particle: AMREX built-in format \n",
    "* Test particle: binary data format"
   ]
  },
  {
   "cell_type": "markdown",
   "metadata": {},
   "source": [
    "## Importing the package"
   ]
  },
  {
   "cell_type": "code",
   "execution_count": null,
   "metadata": {},
   "outputs": [],
   "source": [
    "import flekspy"
   ]
  },
  {
   "cell_type": "markdown",
   "metadata": {},
   "source": [
    "## Downloading demo data\n",
    "\n",
    "If you don't have FLEKS data to start with, you can download demo data with the following:"
   ]
  },
  {
   "cell_type": "code",
   "execution_count": null,
   "metadata": {},
   "outputs": [],
   "source": [
    "import requests\n",
    "import tarfile\n",
    "import os\n",
    "\n",
    "url = \"https://raw.githubusercontent.com/henry2004y/batsrus_data/master/batsrus_data.tar.gz\"\n",
    "testfiles = url.rsplit(\"/\", 1)[1]\n",
    "r = requests.get(url, allow_redirects=True)\n",
    "open(testfiles, \"wb\").write(r.content)\n",
    "path = \"./data\"\n",
    "if not os.path.exists(path):\n",
    "    os.makedirs(path)\n",
    "with tarfile.open(testfiles) as file:\n",
    "    file.extractall(path)\n",
    "    os.remove(testfiles)"
   ]
  },
  {
   "cell_type": "markdown",
   "metadata": {},
   "source": [
    "## Loading data\n",
    "\n",
    "`flekspy.load` is the interface to read files of all formats. It returns a different object for different formats."
   ]
  },
  {
   "cell_type": "code",
   "execution_count": null,
   "metadata": {},
   "outputs": [],
   "source": [
    "file = \"data/1d__raw_2_t25.60000_n00000258.out\"\n",
    "ds = flekspy.load(file)\n",
    "ds"
   ]
  },
  {
   "cell_type": "markdown",
   "metadata": {},
   "source": [
    "## Visualizing fields\n"
   ]
  },
  {
   "cell_type": "code",
   "execution_count": null,
   "metadata": {},
   "outputs": [],
   "source": [
    "#ds = flekspy.load(\"sample_data/3*amrex\")"
   ]
  },
  {
   "cell_type": "code",
   "execution_count": null,
   "metadata": {},
   "outputs": [],
   "source": [
    "#dc = ds.get_slice(\"z\", 0.001)\n",
    "#dc"
   ]
  },
  {
   "cell_type": "code",
   "execution_count": null,
   "metadata": {},
   "outputs": [],
   "source": [
    "#f, axes = dc.contour(\n",
    "#    \"Bx<(1.5e4)>(-1.5e4) ({rhos0}+{rhos1})<(1.3e21) pS0 uxs0\", figsize=(16, 8)\n",
    "#)"
   ]
  },
  {
   "cell_type": "code",
   "execution_count": null,
   "metadata": {},
   "outputs": [],
   "source": [
    "#dc.add_stream(axes[0, 0], \"Bx\", \"By\")  # Add streamlines to one sub-polt\n",
    "#f"
   ]
  },
  {
   "cell_type": "code",
   "execution_count": null,
   "metadata": {},
   "outputs": [],
   "source": [
    "#dc.add_contour(axes[1, 1], \"Bx\")  # Add contour lines to one sub-polt\n",
    "#f"
   ]
  },
  {
   "cell_type": "markdown",
   "metadata": {},
   "source": [
    "Users can also obtain the data of a 2D plane, and visualize it with matplotlib. Below is an example:"
   ]
  },
  {
   "cell_type": "code",
   "execution_count": null,
   "metadata": {},
   "outputs": [],
   "source": [
    "# from flekspy.util.utilities import get_ticks\n",
    "# import matplotlib.pyplot as plt\n",
    "# import numpy as np\n",
    "# \n",
    "# ds = flekspy.load(\"sample_data/3*amrex\")\n",
    "# dc = ds.get_slice(\"z\", 0.001)\n",
    "# \n",
    "# f, axes = plt.subplots(1, 2, figsize=(12, 4), gridspec_kw={\"width_ratios\": [0.9, 1]})\n",
    "# \n",
    "# fields = [\"rhos1\", \"Ey\"]\n",
    "# for ivar in range(2):\n",
    "    # v = dc.evaluate_expression(fields[ivar])\n",
    "    # vmin = v.min().v\n",
    "    # vmax = v.max().v\n",
    "    # ax = axes[ivar]\n",
    "    # nlevels = 200\n",
    "    # levels = np.linspace(vmin, vmax, nlevels)\n",
    "    # ax.set_xlim((-0.006, 0.006))\n",
    "    # ax.set_ylim((-0.003, 0.003))\n",
    "    # ax.set_title(fields[ivar])\n",
    "    # ax.set_ylabel(\"Y\")\n",
    "    # ax.set_xlabel(\"X\")\n",
    "    # cs = ax.contourf(\n",
    "        # dc.x.value, dc.y.value, np.array(v.T), levels=levels, cmap=\"rainbow\"\n",
    "    # )\n",
    "    # ticks = get_ticks(vmin, vmax)\n",
    "    # cb = f.colorbar(cs, ax=ax, ticks=ticks)\n",
    "    # cb.ax.set_yticks(ticks)\n",
    "# \n",
    "    # dc.add_stream(ax, \"Bx\", \"By\", density=1)"
   ]
  },
  {
   "cell_type": "markdown",
   "metadata": {},
   "source": [
    "## Visualizing phase space distributions"
   ]
  },
  {
   "cell_type": "code",
   "execution_count": null,
   "metadata": {
    "scrolled": true
   },
   "outputs": [],
   "source": [
    "# import numpy as np\n",
    "# \n",
    "# \n",
    "# def _unit_one(field, data):\n",
    "    # res = np.zeros(data[(\"particles\", \"p_w\")].shape)\n",
    "    # res[:] = 1\n",
    "    # return res\n",
    "# \n",
    "# \n",
    "# data_file = \"sample_data/cut_*amrex\"\n",
    "# ds = flekspy.load(data_file)\n",
    "# \n",
    "Add a user defined field. See yt document for more information about derived field.\n",
    "# ds.add_field(ds.pvar(\"unit_one\"), function=_unit_one, sampling_type=\"particle\")\n",
    "# \n",
    "# x_field = \"p_uy\"\n",
    "# y_field = \"p_uz\"\n",
    "# z_field = \"unit_one\"\n",
    "# xleft = [-0.001, -0.001, -0.001]\n",
    "# xright = [0.001, 0.001, 0.001]\n",
    "# \n",
    "## Select and plot the particles inside a box defined by xleft and xright\n",
    "# plot = ds.plot_phase(\n",
    "    # xleft,\n",
    "    # xright,\n",
    "    # x_field,\n",
    "    # y_field,\n",
    "    # z_field,\n",
    "    # unit_type=\"si\",\n",
    "    # x_bins=64,\n",
    "    # y_bins=64,\n",
    "    # domain_size=(-0.0002, 0.0002, -0.0002, 0.0002),\n",
    "# )\n",
    "# \n",
    "# plot.set_cmap(plot.fields[0], \"turbo\")\n",
    "# plot.set_xlim(xmin, xmax)\n",
    "# plot.set_ylim(ymin, ymax)\n",
    "# plot.set_zlim(plot.fields[0], zmin, zmax)\n",
    "# plot.set_xlabel(r\"$V_y$\")\n",
    "# plot.set_ylabel(r\"$V_z$\")\n",
    "# plot.set_colorbar_label(plot.fields[0], \"colorbar_label\")\n",
    "# plot.set_title(plot.fields[0], \"Number density\")\n",
    "# plot.set_font({\"size\": 28})\n",
    "# plot.set_log(plot.fields[0], False)\n",
    "# plot.show()\n",
    "# plot.save(\"phase_plot_example\")\n",
    "# plot.plots[('particle', z_field)].axes.xaxis.set_major_locator(\n",
    "    # ticker.MaxNLocator(4))\n",
    "# plot.plots[('particle', z_field)].axes.yaxis.set_major_locator(\n",
    "    # ticker.MaxNLocator(4))\n",
    "# plot.save(plot_dir+plotname)"
   ]
  },
  {
   "cell_type": "markdown",
   "metadata": {},
   "source": [
    "### Plot the location of particles that are inside a sphere"
   ]
  },
  {
   "cell_type": "code",
   "execution_count": null,
   "metadata": {},
   "outputs": [],
   "source": [
    "# center = [0, 0, 0]\n",
    "# radius = 0.001\n",
    "# # Object sphere is defined in yt/data_objects/selection_objects/spheroids.py\n",
    "# sp = ds.sphere(center, radius)\n",
    "# plot = ds.plot_particles_region(\n",
    "#     sp, \"p_x\", \"p_y\", z_field, unit_type=\"planet\", x_bins=64, y_bins=64\n",
    "# )\n",
    "# plot.show()"
   ]
  },
  {
   "cell_type": "markdown",
   "metadata": {},
   "source": [
    "### Plot the phase space of particles that are inside a sphere"
   ]
  },
  {
   "cell_type": "code",
   "execution_count": null,
   "metadata": {},
   "outputs": [],
   "source": [
    "# plot = ds.plot_phase_region(\n",
    "#     sp, \"p_uy\", \"p_uz\", z_field, unit_type=\"planet\", x_bins=64, y_bins=64\n",
    "# )\n",
    "# plot.show()"
   ]
  },
  {
   "cell_type": "markdown",
   "metadata": {},
   "source": [
    "### Plot the location of particles that are inside a disk"
   ]
  },
  {
   "cell_type": "code",
   "execution_count": null,
   "metadata": {},
   "outputs": [],
   "source": [
    "# center = [0, 0, 0]\n",
    "# normal = [1, 1, 0]\n",
    "# radius = 0.0005\n",
    "# height = 0.0004\n",
    "# # Object sphere is defined in yt/data_objects/selection_objects/disk.py\n",
    "# disk = ds.disk(center, normal, radius, height)\n",
    "# plot = ds.plot_particles_region(\n",
    "#     disk, \"p_x\", \"p_y\", z_field, unit_type=\"planet\", x_bins=64, y_bins=64\n",
    "# )\n",
    "# plot.show()"
   ]
  },
  {
   "cell_type": "markdown",
   "metadata": {},
   "source": [
    "### Plot the phase space of particles that are inside a disk"
   ]
  },
  {
   "cell_type": "code",
   "execution_count": null,
   "metadata": {},
   "outputs": [],
   "source": [
    "# plot = ds.plot_phase_region(\n",
    "#     disk, \"p_uy\", \"p_uz\", z_field, unit_type=\"planet\", x_bins=64, y_bins=64\n",
    "# )\n",
    "# plot.show()"
   ]
  },
  {
   "cell_type": "code",
   "execution_count": null,
   "metadata": {},
   "outputs": [],
   "source": [
    "# # Get the 2D array of the plot.\n",
    "# for var_name in plot.profile.field_data:\n",
    "#     val = plot.profile.field_data[var_name]\n",
    "\n",
    "# x = plot.profile.x\n",
    "# y = plot.profile.y\n",
    "\n",
    "# plt.contourf(x, y, val)\n",
    "# plt.show()\n",
    "# # np.savetxt(\"data.txt\", val)"
   ]
  },
  {
   "cell_type": "code",
   "execution_count": null,
   "metadata": {},
   "outputs": [],
   "source": [
    "# # An example to transform the velocity coordinates and visualize the phase space distribution.\n",
    "# import flekspy, yt\n",
    "\n",
    "# l = [1, 0, 0]\n",
    "# m = [0, 1, 0]\n",
    "# n = [0, 0, 1]\n",
    "\n",
    "\n",
    "# def _vel_l(field, data):\n",
    "#     res = (\n",
    "#         l[0] * data[(\"particles\", \"p_ux\")]\n",
    "#         + l[1] * data[(\"particles\", \"p_uy\")]\n",
    "#         + l[2] * data[(\"particles\", \"p_uz\")]\n",
    "#     )\n",
    "#     return res\n",
    "\n",
    "\n",
    "# def _vel_m(field, data):\n",
    "#     res = (\n",
    "#         m[0] * data[(\"particles\", \"p_ux\")]\n",
    "#         + m[1] * data[(\"particles\", \"p_uy\")]\n",
    "#         + m[2] * data[(\"particles\", \"p_uz\")]\n",
    "#     )\n",
    "#     return res\n",
    "\n",
    "\n",
    "# def _vel_n(field, data):\n",
    "#     res = (\n",
    "#         n[0] * data[(\"particles\", \"p_ux\")]\n",
    "#         + n[1] * data[(\"particles\", \"p_uy\")]\n",
    "#         + n[2] * data[(\"particles\", \"p_uz\")]\n",
    "#     )\n",
    "#     return res\n",
    "\n",
    "\n",
    "# data_file = \"sample_data/cut_*amrex\"\n",
    "# ds = flekspy.load(data_file)\n",
    "\n",
    "# # Add a user defined field. See yt document for more information about derived field.\n",
    "# vl_name = ds.pvar(\"vel_l\")\n",
    "# vm_name = ds.pvar(\"vel_m\")\n",
    "# vn_name = ds.pvar(\"vel_n\")\n",
    "# ds.add_field(vl_name, units=\"code_velocity\", function=_vel_l, sampling_type=\"particle\")\n",
    "# ds.add_field(vm_name, units=\"code_velocity\", function=_vel_m, sampling_type=\"particle\")\n",
    "# ds.add_field(vn_name, units=\"code_velocity\", function=_vel_n, sampling_type=\"particle\")\n",
    "\n",
    "# ######## Plot the location of particles that are inside a sphere ###########\n",
    "# center = [0, 0, 0]\n",
    "# radius = 0.001\n",
    "# # Object sphere is defined in yt/data_objects/selection_objects/spheroids.py\n",
    "# sp = ds.sphere(center, radius)\n",
    "\n",
    "# x_field = vl_name\n",
    "# y_field = vm_name\n",
    "# z_field = ds.pvar(\"p_w\")\n",
    "\n",
    "# logs = {x_field: False, y_field: False}\n",
    "# profile = yt.create_profile(\n",
    "#     data_source=sp,\n",
    "#     bin_fields=[x_field, y_field],\n",
    "#     fields=z_field,\n",
    "#     n_bins=[64, 64],\n",
    "#     weight_field=None,\n",
    "#     logs=logs,\n",
    "# )\n",
    "\n",
    "# plot = yt.PhasePlot.from_profile(profile)\n",
    "\n",
    "# plot.set_unit(x_field, \"km/s\")\n",
    "# plot.set_unit(y_field, \"km/s\")\n",
    "# plot.set_unit(z_field, \"amu\")\n",
    "\n",
    "# plot.set_cmap(plot.fields[0], \"turbo\")\n",
    "# # plot.set_xlim(xmin, xmax)\n",
    "# # plot.set_ylim(ymin, ymax)\n",
    "# # plot.set_zlim(plot.fields[0], zmin, zmax)\n",
    "# plot.set_xlabel(r\"$V_l$\")\n",
    "# plot.set_ylabel(r\"$V_m$\")\n",
    "# plot.set_colorbar_label(plot.fields[0], \"colorbar_label\")\n",
    "# plot.set_title(plot.fields[0], \"Density\")\n",
    "# plot.set_font({\"size\": 28})\n",
    "# plot.set_log(plot.fields[0], False)\n",
    "# plot.show()"
   ]
  },
  {
   "cell_type": "markdown",
   "metadata": {},
   "source": [
    "## Plotting Test Particle Trajectories"
   ]
  },
  {
   "cell_type": "markdown",
   "metadata": {},
   "source": [
    "### Loading particle data"
   ]
  },
  {
   "cell_type": "code",
   "execution_count": null,
   "metadata": {},
   "outputs": [],
   "source": [
    "# from flekspy import FLEKSTP\n",
    "\n",
    "# tp = FLEKSTP(\"test_particles\", iSpecies=1)"
   ]
  },
  {
   "cell_type": "markdown",
   "metadata": {},
   "source": [
    "### Obtaining particle IDs\n",
    "\n",
    "Test particle IDs consists of a CPU index and a particle index attached to the CPU."
   ]
  },
  {
   "cell_type": "code",
   "execution_count": null,
   "metadata": {},
   "outputs": [],
   "source": [
    "# pIDs = tp.getIDs()"
   ]
  },
  {
   "cell_type": "markdown",
   "metadata": {},
   "source": [
    "### Reading particle trajectory"
   ]
  },
  {
   "cell_type": "code",
   "execution_count": null,
   "metadata": {},
   "outputs": [],
   "source": [
    "# traj = tp.read_particle_trajectory(pIDs[10])\n",
    "# print(\"time:\\n\")\n",
    "# print(traj[:, 0])\n",
    "# print(\"x:\\n\")\n",
    "# print(traj[:, 1])"
   ]
  },
  {
   "cell_type": "markdown",
   "metadata": {},
   "source": [
    "### Getting initial location"
   ]
  },
  {
   "cell_type": "code",
   "execution_count": null,
   "metadata": {},
   "outputs": [],
   "source": [
    "# x = tp.read_initial_location(pIDs[10])\n",
    "# print(\"time [s], X [R], Y [R], Z [R], U_x [km/s], U_y [km/s], U_z [km/s]\")\n",
    "# print(f\"{x[0]}, {x[1]}, {x[2]}, {x[3]}, {x[4]}, {x[5]}, {x[6]}\")"
   ]
  },
  {
   "cell_type": "markdown",
   "metadata": {},
   "source": [
    "### Plotting trajectory"
   ]
  },
  {
   "cell_type": "code",
   "execution_count": null,
   "metadata": {},
   "outputs": [],
   "source": [
    "# tp.plot_trajectory(pIDs[0])"
   ]
  },
  {
   "cell_type": "markdown",
   "metadata": {},
   "source": [
    "### Reading and visualizing all particle's location at a given snapshot"
   ]
  },
  {
   "cell_type": "code",
   "execution_count": null,
   "metadata": {},
   "outputs": [],
   "source": [
    "# ids, pData = tp.read_particles_at_time(0.0, doSave=False)\n",
    "# tp.plot_loc(pData)"
   ]
  },
  {
   "cell_type": "markdown",
   "metadata": {},
   "source": [
    "### Selecting particles in a region"
   ]
  },
  {
   "cell_type": "code",
   "execution_count": null,
   "metadata": {},
   "outputs": [],
   "source": [
    "# def fselect(tp, pid):\n",
    "#     pdata = tp.read_initial_location(pid)\n",
    "#     inregion = pdata[FLEKSTP.ix_] > 10\n",
    "#     return inregion\n",
    "\n",
    "\n",
    "# pselected = tp.select_particles(fselect)"
   ]
  },
  {
   "cell_type": "markdown",
   "metadata": {},
   "source": [
    "### Saving trajectories to CSV"
   ]
  },
  {
   "cell_type": "code",
   "execution_count": null,
   "metadata": {},
   "outputs": [],
   "source": [
    "# tp.save_trajectory_to_csv(pIDs[0])"
   ]
  }
 ],
 "metadata": {
  "kernelspec": {
   "display_name": "Python 3.9.7 64-bit",
   "language": "python",
   "name": "python3"
  },
  "language_info": {
   "codemirror_mode": {
    "name": "ipython",
    "version": 3
   },
   "file_extension": ".py",
   "mimetype": "text/x-python",
   "name": "python",
   "nbconvert_exporter": "python",
   "pygments_lexer": "ipython3",
   "version": "3.9.6"
  },
  "vscode": {
   "interpreter": {
    "hash": "f22a20af907fde35ff19e1e892fdb271353fb19b11c7ebd774491472e685293c"
   }
  }
 },
 "nbformat": 4,
 "nbformat_minor": 4
}
